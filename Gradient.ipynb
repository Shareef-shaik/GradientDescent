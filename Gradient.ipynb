{
 "cells": [
  {
   "cell_type": "code",
   "execution_count": 52,
   "metadata": {},
   "outputs": [],
   "source": [
    "#gradient desccent\n",
    "#version 2\n",
    "import numpy as np\n",
    "class Gradient():\n",
    "    def __init__(self,X,Y,learning_rate,n_iter):\n",
    "        self.X=X\n",
    "        self.Y=Y\n",
    "        self.learning_rate=learning_rate\n",
    "        self.n_iter=n_iter\n",
    "        \n",
    "    def cost_function(train_labels,predicted_labels):\n",
    "        cost=np.mean((train_labels-predicted_labels)**2)\n",
    "        return cost\n",
    "    \n",
    "    def gradient(self):\n",
    "        #intialise weights\n",
    "        w=np.random.random(len(self.X))\n",
    "        b=0       \n",
    "        #update weights\n",
    "        while self.n_iter>0:\n",
    "            for i in range(len(self.X)):\n",
    "                dw=(-2) * self.X[i] *(self.Y[i]-w*self.X[i]+b)\n",
    "                db=((-2) * (self.Y[i]-w*self.X[i]+b))/len(self.X)\n",
    "                self.n_iter-=1\n",
    "                return db,dw\n",
    "            w=w - self.learning_rate*dw\n",
    "            b=b-self.learning_rate*db\n",
    "        return w,b\n",
    "    def plot_line():\n",
    "        plt.plot()\n",
    "                "
   ]
  },
  {
   "cell_type": "code",
   "execution_count": 53,
   "metadata": {},
   "outputs": [],
   "source": [
    "x=[1,0,1]\n",
    "y=[1,0,1]"
   ]
  },
  {
   "cell_type": "code",
   "execution_count": 54,
   "metadata": {},
   "outputs": [],
   "source": [
    "g=Gradient(x,y,0.01,50)"
   ]
  },
  {
   "cell_type": "code",
   "execution_count": 55,
   "metadata": {},
   "outputs": [
    {
     "data": {
      "text/plain": [
       "(array([-0.09120652, -0.56867611, -0.34403935]),\n",
       " array([-0.27361957, -1.70602832, -1.03211805]))"
      ]
     },
     "execution_count": 55,
     "metadata": {},
     "output_type": "execute_result"
    }
   ],
   "source": [
    "g.gradient()"
   ]
  },
  {
   "cell_type": "code",
   "execution_count": null,
   "metadata": {},
   "outputs": [],
   "source": []
  },
  {
   "cell_type": "code",
   "execution_count": null,
   "metadata": {},
   "outputs": [],
   "source": []
  },
  {
   "cell_type": "code",
   "execution_count": null,
   "metadata": {},
   "outputs": [],
   "source": []
  },
  {
   "cell_type": "code",
   "execution_count": null,
   "metadata": {},
   "outputs": [],
   "source": []
  },
  {
   "cell_type": "code",
   "execution_count": null,
   "metadata": {},
   "outputs": [],
   "source": []
  }
 ],
 "metadata": {
  "kernelspec": {
   "display_name": "Python 3",
   "language": "python",
   "name": "python3"
  },
  "language_info": {
   "codemirror_mode": {
    "name": "ipython",
    "version": 3
   },
   "file_extension": ".py",
   "mimetype": "text/x-python",
   "name": "python",
   "nbconvert_exporter": "python",
   "pygments_lexer": "ipython3",
   "version": "3.7.4"
  }
 },
 "nbformat": 4,
 "nbformat_minor": 2
}
