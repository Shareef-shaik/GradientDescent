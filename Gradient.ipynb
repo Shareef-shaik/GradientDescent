{
 "cells": [
  {
   "cell_type": "code",
   "execution_count": 21,
   "metadata": {},
   "outputs": [],
   "source": [
    "#gradient desccent\n",
    "#version 3 for new branch\n",
    "import numpy as np\n",
    "class Gradient():\n",
    "    def __init__(self,X,Y,learning_rate,n_iter):\n",
    "        self.X=X\n",
    "        self.Y=Y\n",
    "        self.learning_rate=learning_rate\n",
    "        self.n_iter=n_iter\n",
    "    \n",
    "    def gradient(self):\n",
    "        #intialise weights\n",
    "        w0=np.random.random(len(self.X))\n",
    "        b0=1\n",
    "        print(w0)\n",
    "        #update weights\n",
    "        while self.n_iter>0:\n",
    "            for i in range(len(self.X)):\n",
    "                w1=w0+self.learning_rate * (-2) * self.X[i] *(self.Y[i]-w0*self.X[i])\n",
    "                print(w1)\n",
    "                self.n_iter-=1\n",
    "                #if (w1-w0).any()<0.001:\n",
    "                #    break\n",
    "                return w1\n",
    "            \n",
    "    def plot_line():\n",
    "        plt.plot()\n",
    "                "
   ]
  },
  {
   "cell_type": "code",
   "execution_count": 22,
   "metadata": {},
   "outputs": [],
   "source": [
    "x=[1,0,1]\n",
    "y=[1,0,1]"
   ]
  },
  {
   "cell_type": "code",
   "execution_count": 25,
   "metadata": {},
   "outputs": [],
   "source": [
    "g=Gradient(x,y,0.01,50)"
   ]
  },
  {
   "cell_type": "code",
   "execution_count": 26,
   "metadata": {},
   "outputs": [
    {
     "name": "stdout",
     "output_type": "stream",
     "text": [
      "[0.03922303 0.5743302  0.23033422]\n",
      "[0.02000749 0.56581681 0.2149409 ]\n"
     ]
    },
    {
     "data": {
      "text/plain": [
       "array([0.02000749, 0.56581681, 0.2149409 ])"
      ]
     },
     "execution_count": 26,
     "metadata": {},
     "output_type": "execute_result"
    }
   ],
   "source": [
    "g.gradient()"
   ]
  },
  {
   "cell_type": "code",
   "execution_count": null,
   "metadata": {},
   "outputs": [],
   "source": []
  }
 ],
 "metadata": {
  "kernelspec": {
   "display_name": "Python 3",
   "language": "python",
   "name": "python3"
  },
  "language_info": {
   "codemirror_mode": {
    "name": "ipython",
    "version": 3
   },
   "file_extension": ".py",
   "mimetype": "text/x-python",
   "name": "python",
   "nbconvert_exporter": "python",
   "pygments_lexer": "ipython3",
   "version": "3.7.4"
  }
 },
 "nbformat": 4,
 "nbformat_minor": 2
}
